{
 "cells": [
  {
   "cell_type": "code",
   "execution_count": 1,
   "metadata": {},
   "outputs": [
    {
     "name": "stderr",
     "output_type": "stream",
     "text": [
      "c:\\Users\\Aluno\\AppData\\Local\\Programs\\Python\\Python310\\lib\\site-packages\\mysql\\connector\\abstracts.py:130: SyntaxWarning: \"is\" with a literal. Did you mean \"==\"?\n",
      "  if group is 'connector_python':\n",
      "c:\\Users\\Aluno\\AppData\\Local\\Programs\\Python\\Python310\\lib\\site-packages\\mysql\\connector\\abstracts.py:130: SyntaxWarning: \"is\" with a literal. Did you mean \"==\"?\n",
      "  if group is 'connector_python':\n"
     ]
    },
    {
     "ename": "InterfaceError",
     "evalue": "2003: Can't connect to MySQL server on '127.0.0.1:3306' (10061 Nenhuma conexão pôde ser feita porque a máquina de destino as recusou ativamente)",
     "output_type": "error",
     "traceback": [
      "\u001b[1;31m---------------------------------------------------------------------------\u001b[0m",
      "\u001b[1;31mConnectionRefusedError\u001b[0m                    Traceback (most recent call last)",
      "File \u001b[1;32mc:\\Users\\Aluno\\AppData\\Local\\Programs\\Python\\Python310\\lib\\site-packages\\mysql\\connector\\network.py:509\u001b[0m, in \u001b[0;36mMySQLTCPSocket.open_connection\u001b[1;34m(self)\u001b[0m\n\u001b[0;32m    508\u001b[0m     \u001b[39mself\u001b[39m\u001b[39m.\u001b[39msock\u001b[39m.\u001b[39msettimeout(\u001b[39mself\u001b[39m\u001b[39m.\u001b[39m_connection_timeout)\n\u001b[1;32m--> 509\u001b[0m     \u001b[39mself\u001b[39;49m\u001b[39m.\u001b[39;49msock\u001b[39m.\u001b[39;49mconnect(sockaddr)\n\u001b[0;32m    510\u001b[0m \u001b[39mexcept\u001b[39;00m \u001b[39mIOError\u001b[39;00m \u001b[39mas\u001b[39;00m err:\n",
      "\u001b[1;31mConnectionRefusedError\u001b[0m: [WinError 10061] Nenhuma conexão pôde ser feita porque a máquina de destino as recusou ativamente",
      "\nDuring handling of the above exception, another exception occurred:\n",
      "\u001b[1;31mInterfaceError\u001b[0m                            Traceback (most recent call last)",
      "Cell \u001b[1;32mIn[1], line 26\u001b[0m\n\u001b[0;32m     24\u001b[0m DB_NAME \u001b[39m=\u001b[39m \u001b[39m'\u001b[39m\u001b[39mnome_do_banco_de_dados\u001b[39m\u001b[39m'\u001b[39m\n\u001b[0;32m     25\u001b[0m TABLE_NAME \u001b[39m=\u001b[39m \u001b[39m'\u001b[39m\u001b[39mnome_da_tabela\u001b[39m\u001b[39m'\u001b[39m\n\u001b[1;32m---> 26\u001b[0m cnx \u001b[39m=\u001b[39m mysql\u001b[39m.\u001b[39;49mconnector\u001b[39m.\u001b[39;49mconnect(user\u001b[39m=\u001b[39;49m\u001b[39m'\u001b[39;49m\u001b[39musuario\u001b[39;49m\u001b[39m'\u001b[39;49m, password\u001b[39m=\u001b[39;49m\u001b[39m'\u001b[39;49m\u001b[39msenha\u001b[39;49m\u001b[39m'\u001b[39;49m, database\u001b[39m=\u001b[39;49mDB_NAME)\n\u001b[0;32m     27\u001b[0m cursor \u001b[39m=\u001b[39m cnx\u001b[39m.\u001b[39mcursor()\n\u001b[0;32m     29\u001b[0m \u001b[39m# Loop para simular a medição de ruído em loop infinito\u001b[39;00m\n",
      "File \u001b[1;32mc:\\Users\\Aluno\\AppData\\Local\\Programs\\Python\\Python310\\lib\\site-packages\\mysql\\connector\\__init__.py:179\u001b[0m, in \u001b[0;36mconnect\u001b[1;34m(*args, **kwargs)\u001b[0m\n\u001b[0;32m    177\u001b[0m     \u001b[39mreturn\u001b[39;00m CMySQLConnection(\u001b[39m*\u001b[39margs, \u001b[39m*\u001b[39m\u001b[39m*\u001b[39mkwargs)\n\u001b[0;32m    178\u001b[0m \u001b[39melse\u001b[39;00m:\n\u001b[1;32m--> 179\u001b[0m     \u001b[39mreturn\u001b[39;00m MySQLConnection(\u001b[39m*\u001b[39margs, \u001b[39m*\u001b[39m\u001b[39m*\u001b[39mkwargs)\n",
      "File \u001b[1;32mc:\\Users\\Aluno\\AppData\\Local\\Programs\\Python\\Python310\\lib\\site-packages\\mysql\\connector\\connection.py:95\u001b[0m, in \u001b[0;36mMySQLConnection.__init__\u001b[1;34m(self, *args, **kwargs)\u001b[0m\n\u001b[0;32m     92\u001b[0m \u001b[39mself\u001b[39m\u001b[39m.\u001b[39m_pool_config_version \u001b[39m=\u001b[39m \u001b[39mNone\u001b[39;00m\n\u001b[0;32m     94\u001b[0m \u001b[39mif\u001b[39;00m \u001b[39mlen\u001b[39m(kwargs) \u001b[39m>\u001b[39m \u001b[39m0\u001b[39m:\n\u001b[1;32m---> 95\u001b[0m     \u001b[39mself\u001b[39m\u001b[39m.\u001b[39mconnect(\u001b[39m*\u001b[39m\u001b[39m*\u001b[39mkwargs)\n",
      "File \u001b[1;32mc:\\Users\\Aluno\\AppData\\Local\\Programs\\Python\\Python310\\lib\\site-packages\\mysql\\connector\\abstracts.py:716\u001b[0m, in \u001b[0;36mMySQLConnectionAbstract.connect\u001b[1;34m(self, **kwargs)\u001b[0m\n\u001b[0;32m    713\u001b[0m     \u001b[39mself\u001b[39m\u001b[39m.\u001b[39mconfig(\u001b[39m*\u001b[39m\u001b[39m*\u001b[39mkwargs)\n\u001b[0;32m    715\u001b[0m \u001b[39mself\u001b[39m\u001b[39m.\u001b[39mdisconnect()\n\u001b[1;32m--> 716\u001b[0m \u001b[39mself\u001b[39;49m\u001b[39m.\u001b[39;49m_open_connection()\n\u001b[0;32m    717\u001b[0m \u001b[39mself\u001b[39m\u001b[39m.\u001b[39m_post_connection()\n",
      "File \u001b[1;32mc:\\Users\\Aluno\\AppData\\Local\\Programs\\Python\\Python310\\lib\\site-packages\\mysql\\connector\\connection.py:206\u001b[0m, in \u001b[0;36mMySQLConnection._open_connection\u001b[1;34m(self)\u001b[0m\n\u001b[0;32m    204\u001b[0m \u001b[39mself\u001b[39m\u001b[39m.\u001b[39m_protocol \u001b[39m=\u001b[39m MySQLProtocol()\n\u001b[0;32m    205\u001b[0m \u001b[39mself\u001b[39m\u001b[39m.\u001b[39m_socket \u001b[39m=\u001b[39m \u001b[39mself\u001b[39m\u001b[39m.\u001b[39m_get_connection()\n\u001b[1;32m--> 206\u001b[0m \u001b[39mself\u001b[39;49m\u001b[39m.\u001b[39;49m_socket\u001b[39m.\u001b[39;49mopen_connection()\n\u001b[0;32m    207\u001b[0m \u001b[39mself\u001b[39m\u001b[39m.\u001b[39m_do_handshake()\n\u001b[0;32m    208\u001b[0m \u001b[39mself\u001b[39m\u001b[39m.\u001b[39m_do_auth(\u001b[39mself\u001b[39m\u001b[39m.\u001b[39m_user, \u001b[39mself\u001b[39m\u001b[39m.\u001b[39m_password,\n\u001b[0;32m    209\u001b[0m               \u001b[39mself\u001b[39m\u001b[39m.\u001b[39m_database, \u001b[39mself\u001b[39m\u001b[39m.\u001b[39m_client_flags, \u001b[39mself\u001b[39m\u001b[39m.\u001b[39m_charset_id,\n\u001b[0;32m    210\u001b[0m               \u001b[39mself\u001b[39m\u001b[39m.\u001b[39m_ssl)\n",
      "File \u001b[1;32mc:\\Users\\Aluno\\AppData\\Local\\Programs\\Python\\Python310\\lib\\site-packages\\mysql\\connector\\network.py:511\u001b[0m, in \u001b[0;36mMySQLTCPSocket.open_connection\u001b[1;34m(self)\u001b[0m\n\u001b[0;32m    509\u001b[0m     \u001b[39mself\u001b[39m\u001b[39m.\u001b[39msock\u001b[39m.\u001b[39mconnect(sockaddr)\n\u001b[0;32m    510\u001b[0m \u001b[39mexcept\u001b[39;00m \u001b[39mIOError\u001b[39;00m \u001b[39mas\u001b[39;00m err:\n\u001b[1;32m--> 511\u001b[0m     \u001b[39mraise\u001b[39;00m errors\u001b[39m.\u001b[39mInterfaceError(\n\u001b[0;32m    512\u001b[0m         errno\u001b[39m=\u001b[39m\u001b[39m2003\u001b[39m, values\u001b[39m=\u001b[39m(\u001b[39mself\u001b[39m\u001b[39m.\u001b[39mget_address(), _strioerror(err)))\n\u001b[0;32m    513\u001b[0m \u001b[39mexcept\u001b[39;00m \u001b[39mException\u001b[39;00m \u001b[39mas\u001b[39;00m err:\n\u001b[0;32m    514\u001b[0m     \u001b[39mraise\u001b[39;00m errors\u001b[39m.\u001b[39mOperationalError(\u001b[39mstr\u001b[39m(err))\n",
      "\u001b[1;31mInterfaceError\u001b[0m: 2003: Can't connect to MySQL server on '127.0.0.1:3306' (10061 Nenhuma conexão pôde ser feita porque a máquina de destino as recusou ativamente)"
     ]
    }
   ],
   "source": [
    "import sys\n",
    "import struct\n",
    "import math\n",
    "import time\n",
    "import random\n",
    "import mysql.connector \n",
    "from matplotlib import pyplot as plot\n",
    "from mysql.connector import errorcode\n",
    "import numpy as np\n",
    "\n",
    "# Criação de listas\n",
    "lista_decibel = []\n",
    "lista_ambiente = []\n",
    "lista_espaco = []\n",
    "lista_tempo = []\n",
    "\n",
    "# Configurações da gravação de áudio simulado\n",
    "CHUNK = 1024\n",
    "\n",
    "# Define o limiar de ruído máximo permitido (em dB)\n",
    "MAX_NOISE_LEVEL = 45\n",
    "\n",
    "# Configurações do banco de dados\n",
    "# DB_NAME = 'nome_do_banco_de_dados'\n",
    "# TABLE_NAME = 'nome_da_tabela'\n",
    "# cnx = mysql.connector.connect(user='usuario', password='senha', database=DB_NAME)\n",
    "# cursor = cnx.cursor()\n",
    "\n",
    "# Loop para simular a medição de ruído em loop infinito\n",
    "while True:\n",
    "    # Mede o nível de ruído por 1 segundo\n",
    "    ambiente_adequado, ambiente_simulado = medir_nivel_ruido(1)\n",
    "\n",
    "    # Armazena os dados em listas\n",
    "    lista_decibel.append(decibel_simulado)\n",
    "    lista_ambiente.append(ambiente_simulado)\n",
    "    espaco = sys.getsizeof(lista_decibel) / (1024 * 1024)\n",
    "    lista_espaco.append(espaco)\n",
    "    lista_tempo.append(duracao)\n",
    "\n",
    "    # Verifica se o número de medições é suficiente para inserir os dados no banco de dados\n",
    "    if len(lista_decibel) >= 1000:\n",
    "        # Prepara os dados para a inserção em massa no banco de dados\n",
    "        data = []\n",
    "        for i in range(len(lista_decibel)):\n",
    "            data.append((lista_decibel[i], lista_ambiente[i], lista_espaco[i], lista_tempo[i]))\n",
    "        \n",
    "        # Insere os dados no banco de dados em massa\n",
    "        # try:\n",
    "        #     add_data = f\"INSERT INTO {TABLE_NAME} (decibel, ambiente, espaco, tempo) VALUES (%s, %s, %s, %s)\"\n",
    "        #     cursor.executemany(add_data, data)\n",
    "        #     cnx.commit()\n",
    "        #     print(f\"Inseridos {len(data)} registros no banco de dados\")\n",
    "            \n",
    "            # Limpa as listas após a inserção dos dados no banco de dados\n",
    "            lista_decibel.clear()\n",
    "            lista_ambiente.clear()\n",
    "            lista_espaco.clear()\n",
    "            lista_tempo.clear()\n",
    "        # except mysql.connector.Error as err:\n",
    "        #     print(f\"Erro ao inserir dados no banco de dados: {err}\")\n",
    "\n",
    "            # Faz uma pausa de 1 segundo\n",
    "            time.sleep(1)\n",
    "\n",
    "    # Fecha o cursor e a conexão com o banco de dados\n",
    "    # cursor.close()\n",
    "    # cnx.close()"
   ]
  }
 ],
 "metadata": {
  "kernelspec": {
   "display_name": "Python 3",
   "language": "python",
   "name": "python3"
  },
  "language_info": {
   "codemirror_mode": {
    "name": "ipython",
    "version": 3
   },
   "file_extension": ".py",
   "mimetype": "text/x-python",
   "name": "python",
   "nbconvert_exporter": "python",
   "pygments_lexer": "ipython3",
   "version": "3.10.1"
  },
  "orig_nbformat": 4
 },
 "nbformat": 4,
 "nbformat_minor": 2
}
